{
 "cells": [
  {
   "cell_type": "code",
   "execution_count": 46,
   "metadata": {
    "collapsed": false
   },
   "outputs": [
    {
     "name": "stdout",
     "output_type": "stream",
     "text": [
      "\rReading package lists... 0%\r"
     ]
    },
    {
     "name": "stdout",
     "output_type": "stream",
     "text": [
      "\rReading package lists... 0%\r\rReading package lists... 0%\r"
     ]
    },
    {
     "name": "stdout",
     "output_type": "stream",
     "text": [
      "\rReading package lists... 3%\r\rReading package lists... 3%\r"
     ]
    },
    {
     "name": "stdout",
     "output_type": "stream",
     "text": [
      "\rReading package lists... 6%\r\rReading package lists... 6%\r\rReading package lists... 6%\r\rReading package lists... 6%\r"
     ]
    },
    {
     "name": "stdout",
     "output_type": "stream",
     "text": [
      "\rReading package lists... 7%\r\rReading package lists... 7%\r"
     ]
    },
    {
     "name": "stdout",
     "output_type": "stream",
     "text": [
      "\rReading package lists... 20%\r"
     ]
    },
    {
     "name": "stdout",
     "output_type": "stream",
     "text": [
      "\rReading package lists... 35%\r\rReading package lists... 35%\r"
     ]
    },
    {
     "name": "stdout",
     "output_type": "stream",
     "text": [
      "\rReading package lists... 39%\r"
     ]
    },
    {
     "name": "stdout",
     "output_type": "stream",
     "text": [
      "\rReading package lists... 63%\r\rReading package lists... 63%\r\rReading package lists... 64%\r\rReading package lists... 64%\r\rReading package lists... 64%\r\rReading package lists... 64%\r"
     ]
    },
    {
     "name": "stdout",
     "output_type": "stream",
     "text": [
      "\rReading package lists... 68%\r\rReading package lists... 68%\r"
     ]
    },
    {
     "name": "stdout",
     "output_type": "stream",
     "text": [
      "\rReading package lists... 68%\r"
     ]
    },
    {
     "name": "stdout",
     "output_type": "stream",
     "text": [
      "\rReading package lists... 70%\r\rReading package lists... 70%\r\rReading package lists... 70%\r\rReading package lists... 70%\r\rReading package lists... 70%\r\rReading package lists... 70%\r"
     ]
    },
    {
     "name": "stdout",
     "output_type": "stream",
     "text": [
      "\rReading package lists... 74%\r\rReading package lists... 74%\r"
     ]
    },
    {
     "name": "stdout",
     "output_type": "stream",
     "text": [
      "\rReading package lists... 79%\r\rReading package lists... 79%\r\rReading package lists... 79%\r\rReading package lists... 79%\r\rReading package lists... 79%\r\rReading package lists... 79%\r\rReading package lists... 79%\r\rReading package lists... 79%\r\rReading package lists... 79%\r"
     ]
    },
    {
     "name": "stdout",
     "output_type": "stream",
     "text": [
      "\rReading package lists... 79%\r\rReading package lists... 79%\r\rReading package lists... 79%\r\rReading package lists... 79%\r\rReading package lists... 79%\r"
     ]
    },
    {
     "name": "stdout",
     "output_type": "stream",
     "text": [
      "\rReading package lists... 81%\r\rReading package lists... 81%\r\rReading package lists... 83%\r\rReading package lists... 83%\r\rReading package lists... 83%\r\rReading package lists... 83%\r\rReading package lists... 83%\r\rReading package lists... 83%\r"
     ]
    },
    {
     "name": "stdout",
     "output_type": "stream",
     "text": [
      "\rReading package lists... 86%\r\rReading package lists... 86%\r"
     ]
    },
    {
     "name": "stdout",
     "output_type": "stream",
     "text": [
      "\rReading package lists... 88%\r\rReading package lists... 88%\r\rReading package lists... 88%\r\rReading package lists... 88%\r\rReading package lists... 88%\r\rReading package lists... 88%\r\rReading package lists... 89%\r\rReading package lists... 89%\r"
     ]
    },
    {
     "name": "stdout",
     "output_type": "stream",
     "text": [
      "\rReading package lists... 89%\r\rReading package lists... 89%\r\rReading package lists... 89%\r\rReading package lists... 89%\r\rReading package lists... 89%\r\rReading package lists... 89%\r\rReading package lists... 90%\r\rReading package lists... 90%\r\rReading package lists... 90%\r\rReading package lists... 90%\r\rReading package lists... 90%\r\rReading package lists... 90%\r\rReading package lists... 90%\r\rReading package lists... 90%\r\rReading package lists... 90%\r\rReading package lists... 90%\r\rReading package lists... 90%\r\rReading package lists... 90%\r\rReading package lists... 90%\r\rReading package lists... 90%\r"
     ]
    },
    {
     "name": "stdout",
     "output_type": "stream",
     "text": [
      "\rReading package lists... 91%\r\rReading package lists... 91%\r"
     ]
    },
    {
     "name": "stdout",
     "output_type": "stream",
     "text": [
      "\rReading package lists... 93%\r\rReading package lists... 93%\r\rReading package lists... 93%\r\rReading package lists... 93%\r\rReading package lists... 93%\r\rReading package lists... 93%\r\rReading package lists... 93%\r\rReading package lists... 93%\r\rReading package lists... 93%\r\rReading package lists... 93%\r\rReading package lists... 93%\r\rReading package lists... 93%\r\rReading package lists... 93%\r\rReading package lists... 93%\r\rReading package lists... 93%\r\rReading package lists... 93%\r\rReading package lists... 93%\r\rReading package lists... 93%\r\rReading package lists... 93%\r"
     ]
    },
    {
     "name": "stdout",
     "output_type": "stream",
     "text": [
      "\rReading package lists... 93%\r\rReading package lists... 93%\r\rReading package lists... 93%\r\rReading package lists... 93%\r\rReading package lists... 93%\r\rReading package lists... 93%\r\rReading package lists... 93%\r\rReading package lists... 93%\r\rReading package lists... 93%\r\rReading package lists... 93%\r\rReading package lists... 93%\r\rReading package lists... 93%\r\rReading package lists... 93%\r\rReading package lists... 93%\r\rReading package lists... 93%\r\rReading package lists... 93%\r\rReading package lists... 93%\r\rReading package lists... 93%\r\rReading package lists... 93%\r"
     ]
    },
    {
     "name": "stdout",
     "output_type": "stream",
     "text": [
      "\rReading package lists... 94%\r\rReading package lists... 94%\r\rReading package lists... 94%\r\rReading package lists... 94%\r\rReading package lists... 94%\r\rReading package lists... 94%\r\rReading package lists... 94%\r\rReading package lists... 94%\r\rReading package lists... 94%\r"
     ]
    },
    {
     "name": "stdout",
     "output_type": "stream",
     "text": [
      "\rReading package lists... Done\r\r\n"
     ]
    },
    {
     "name": "stdout",
     "output_type": "stream",
     "text": [
      "\rBuilding dependency tree... 0%\r\rBuilding dependency tree... 0%\r"
     ]
    },
    {
     "name": "stdout",
     "output_type": "stream",
     "text": [
      "\rBuilding dependency tree... 50%\r\rBuilding dependency tree... 50%\r"
     ]
    },
    {
     "name": "stdout",
     "output_type": "stream",
     "text": [
      "\rBuilding dependency tree... 74%\r"
     ]
    },
    {
     "name": "stdout",
     "output_type": "stream",
     "text": [
      "\rBuilding dependency tree       \r\r\n",
      "\rReading state information... 0%\r\rReading state information... 0%\r\rReading state information... Done\r\r\n"
     ]
    },
    {
     "name": "stdout",
     "output_type": "stream",
     "text": [
      "swi-prolog is already the newest version (7.6.4+dfsg-1build1).\r\n"
     ]
    },
    {
     "name": "stdout",
     "output_type": "stream",
     "text": [
      "0 upgraded, 0 newly installed, 0 to remove and 3 not upgraded.\r\n",
      "W: Not using locking for read only lock file /var/lib/dpkg/lock-frontend\r\n",
      "W: Not using locking for read only lock file /var/lib/dpkg/lock\r\n",
      "W: Not using locking for read only lock file /var/cache/apt/archives/lock\r\n"
     ]
    }
   ],
   "source": [
    "!apt install swi-prolog"
   ]
  },
  {
   "cell_type": "code",
   "execution_count": 50,
   "metadata": {
    "collapsed": false
   },
   "outputs": [
   ],
   "source": [
    "KB = \"\"\"\n",
    "%  Tell prolog that known/3 will be added later by asserta\n",
    ":- dynamic known/3. \n",
    "\n",
    "% Enter your KB below this line:\n",
    "\n",
    "% problem(battery) :- \\+engine(turning_over), battery(bad).\n",
    "% battery(bad) :- lights(weak).\n",
    "% battery(bad) :- radio(weak).\n",
    "% problem(out_of_gas) :- engine(turning_over), gas_gauge(empty).\n",
    "% problem(engine_flooded) :- engine(turning_over), smell(gas).\n",
    "\n",
    "restaurant(the_Visit) :- price(medium), distance(near), accessibility(bicycle), cuisine(western), meal_type(cafe), (vegan_option(vegan) ; vegan_option(non_vegan)), language(english), (opening_hours(morning); opening_hours(afternoon)).\n",
    "restaurant(maroush) :- price(low), distance(near), accessibility(bicycle), cuisine(middle_eastern), meal_type(snack), (vegan_option(vegan) ; vegan_option(non_vegan)), language(english), (opening_hours(afternoon); opening_hours(evening)).\n",
    "restaurant(hacibaba) :- price(low), distance(near), accessibility(bicycle), cuisine(middle_eastern), meal_type(snack), (vegan_option(vegan) ; vegan_option(non_vegan)), language(english), (opening_hours(evening); opening_hours(afternoon)).\n",
    "restaurant(green_Rice) :- price(medium), distance(near), accessibility(bicycle), cuisine(asian), meal_type(restaurant), (vegan_option(vegan) ; vegan_option(non_vegan)), language(english), (opening_hours(morning); opening_hours(afternoon)).\n",
    "restaurant(tangs) :- price(medium), distance(near), accessibility(bicycle), cuisine(asian), meal_type(restaurant), (vegan_option(vegan) ; vegan_option(non_vegan)), language(english), (opening_hours(afternoon); opening_hours(evening)).\n",
    "restaurant(zur_Gerichtslaube) :- price(high), distance(far), accessibility(bicycle), cuisine(western), meal_type(restaurant), (vegan_option(vegan) ; vegan_option(non_vegan)), language(english), opening_hours(evening).\n",
    "restaurant(parker_Bowles) :- price(medium), distance(near), accessibility(bus), cuisine(western), meal_type(restaurant), vegan_option(non_vegan), language(german), (opening_hours(evening)).\n",
    "restaurant(cocolo_ramen) :- price(medium), distance(far), accessibility(bus), cuisine(asian), meal_type(restaurant), vegan_option(non_vegan), language(english), (opening_hours(afternoon); opening_hours(evening)).\n",
    "\n",
    "\n",
    "% The code below implements the prompting to ask the user:\n",
    "\n",
    "price(X) :- menuask(price, X, [low, medium, high]).\n",
    "distance(X) :- menuask(distance, X, [near, far]).\n",
    "accessibility(X) :- menuask(accessibility, X, [bicycle, bus]).\n",
    "cuisine(X) :- menuask(cuisine, X, [asian, middle_eastern, western]).\n",
    "meal_type(X) :- menuask(meal_type, X, [cafe, snack, restaurant]).\n",
    "vegan_option(X) :- menuask(vegan_option, X, [vegan, non_vegan]).\n",
    "language(X) :- menuask(language, X, [english, german]).\n",
    "opening_hours(X) :- menuask(opening_hours, X, [morning, afternoon, evening]).\n",
    "\n",
    "\n",
    "% Asking clauses\n",
    "multivalued(none).\n",
    "\n",
    "menuask(A, V, MenuList):-\n",
    "known(yes, A, V), % succeed if true\n",
    "!.\t% stop looking\n",
    "\n",
    "menuask(A, V, MenuList):-\n",
    "known(_, A, V), % fail if false\n",
    "!, fail.\n",
    "\n",
    "% If not multivalued, and already known, don't ask again for a different value.\n",
    "menuask(A, V, MenuList):-\n",
    "\\+multivalued(A),\n",
    "known(yes, A, V2),\n",
    "V \\== V2,\n",
    "!.\n",
    "\n",
    "menuask(A, V, MenuList):-\n",
    "read_py(A,V,Y,MenuList), % get the answer\n",
    "asserta(known(Y, A, V)), % remember it\n",
    "Y == yes.\t% succeed or fail\n",
    "\"\"\"\n",
    "\n",
    "with open(\"KB.pl\", \"w\") as text_file:\n",
    "    text_file.write(KB)"
   ]
  },
  {
   "cell_type": "code",
   "execution_count": 55,
   "metadata": {
    "cocalc": {
     "outputs": {
      "0": {
       "name": "input",
       "opts": {
        "password": false,
        "prompt": "\nPlease choose a price category: (1. low / 2. medium / 3. high) ---- Your choice is: "
       },
       "output_type": "stream",
       "value": "2"
      },
      "1": {
       "name": "input",
       "opts": {
        "password": false,
        "prompt": "\nPlease choose a distance category: (1. near / 2. far) ---- Your choice is: "
       },
       "output_type": "stream",
       "value": "1"
      },
      "2": {
       "name": "input",
       "opts": {
        "password": false,
        "prompt": "\nPlease choose a accessibility category: (1. bicycle / 2. bus) ---- Your choice is: "
       },
       "output_type": "stream",
       "value": "1"
      },
      "3": {
       "name": "input",
       "opts": {
        "password": false,
        "prompt": "\nPlease choose a cuisine category: (1. asian / 2. middle_eastern / 3. western) ---- Your choice is: "
       },
       "output_type": "stream",
       "value": "3"
      },
      "4": {
       "name": "input",
       "opts": {
        "password": false,
        "prompt": "\nPlease choose a meal_type category: (1. cafe / 2. snack / 3. restaurant) ---- Your choice is: "
       },
       "output_type": "stream",
       "value": "1"
      },
      "5": {
       "name": "input",
       "opts": {
        "password": false,
        "prompt": "\nPlease choose a vegan_option category: (1. vegan / 2. non_vegan) ---- Your choice is: "
       },
       "output_type": "stream",
       "value": "1"
      },
      "6": {
       "name": "input",
       "opts": {
        "password": false,
        "prompt": "\nPlease choose a language category: (1. english / 2. german) ---- Your choice is: "
       },
       "output_type": "stream",
       "value": "1"
      },
      "7": {
       "name": "input",
       "opts": {
        "password": false,
        "prompt": "\nPlease choose a opening_hours category: (1. morning / 2. afternoon / 3. evening) ---- Your choice is: "
       },
       "output_type": "stream",
       "value": "1"
      }
     }
    },
    "collapsed": false
   },
   "outputs": [
    {
     "name": "stdout",
     "output_type": "stream",
     "text": "\nPlease choose a price category: (1. low / 2. medium / 3. high) ---- Your choice is:  2"
    },
    {
     "name": "stdout",
     "output_type": "stream",
     "text": "\nPlease choose a distance category: (1. near / 2. far) ---- Your choice is:  1"
    },
    {
     "name": "stdout",
     "output_type": "stream",
     "text": "\nPlease choose a accessibility category: (1. bicycle / 2. bus) ---- Your choice is:  1"
    },
    {
     "name": "stdout",
     "output_type": "stream",
     "text": "\nPlease choose a cuisine category: (1. asian / 2. middle_eastern / 3. western) ---- Your choice is:  3"
    },
    {
     "name": "stdout",
     "output_type": "stream",
     "text": "\nPlease choose a meal_type category: (1. cafe / 2. snack / 3. restaurant) ---- Your choice is:  1"
    },
    {
     "name": "stdout",
     "output_type": "stream",
     "text": "\nPlease choose a vegan_option category: (1. vegan / 2. non_vegan) ---- Your choice is:  1"
    },
    {
     "name": "stdout",
     "output_type": "stream",
     "text": "\nPlease choose a language category: (1. english / 2. german) ---- Your choice is:  1"
    },
    {
     "name": "stdout",
     "output_type": "stream",
     "text": "\nPlease choose a opening_hours category: (1. morning / 2. afternoon / 3. evening) ---- Your choice is:  1"
    },
    {
     "name": "stdout",
     "output_type": "stream",
     "text": [
      "\n",
      "You should go to the_Visit restaurant.\n",
      "Here is the menu: https://drive.google.com/file/d/1hhxTrzMNxQZqfUoILd9tYWX5hfXX6v3Y/view\n"
     ]
    }
   ],
   "source": [
    "# The code here will ask the user for input based on the askables\n",
    "# It will check if the answer is known first\n",
    "\n",
    "from pyswip.prolog import Prolog\n",
    "from pyswip.easy import *\n",
    "import string\n",
    "\n",
    "prolog = Prolog() # Global handle to interpreter\n",
    "\n",
    "retractall = Functor(\"retractall\")\n",
    "known = Functor(\"known\",3)\n",
    "\n",
    "# a dictionary to store users' inputs for enabling a more natural language way of asking users\n",
    "# if the users' answers exist in the dictionary, \"attribute is value\" will be answered as \"yes\"\n",
    "users_answers = dict()\n",
    "\n",
    "# Define foreign functions for getting user input and writing to the screen\n",
    "def write_py(X):\n",
    "    print(str(X))\n",
    "    sys.stdout.flush()\n",
    "    return True\n",
    "\n",
    "def read_py(A,V,Y,MenuList):\n",
    "    if isinstance(Y, Variable):\n",
    "        # generate a menu list with index in front of the values\n",
    "        menulist = [f\"{idx+1}. \" + str(val) for idx, val in enumerate(MenuList)]\n",
    "        \n",
    "        # if user has not answered the attribute\n",
    "        # ask for a numeric response\n",
    "        while str(A) not in users_answers:\n",
    "            response = input(\"\\nPlease choose a \" + str(A) + \" category: \" + \"(\" + \" / \".join(menulist) + \")\" +\" ---- Your choice is: \")\n",
    "            if response.isnumeric():\n",
    "                response = int(response)\n",
    "                if response - 1 in list(range(len(menulist))):\n",
    "                    users_answers[str(A)] = menulist[response-1][3:]\n",
    "                else:\n",
    "                    print(\"Choose your answer within the range of the possible answers.\")\n",
    "            else:\n",
    "                print(\"Choose your numeric answer from the possible answers.\")\n",
    "        \n",
    "        # is the user has answered the attribute with the value V and \"attribute (A) is value (V)\"\n",
    "        # then unify the variable Y with yes, else no\n",
    "        if str(A) in users_answers and users_answers[str(A)] == str(V):\n",
    "            Y.unify(\"yes\")\n",
    "        else:\n",
    "            Y.unify(\"no\")\n",
    "        return True\n",
    "    else:\n",
    "        return False\n",
    "    \n",
    "# define the arity of the functions\n",
    "write_py.arity = 1\n",
    "read_py.arity = 4\n",
    "\n",
    "# register the foreign functions into Prolog\n",
    "registerForeign(read_py)\n",
    "registerForeign(write_py)\n",
    "\n",
    "# links to the menu of each restaurant / cafe\n",
    "menu = {\n",
    "            \"the_Visit\": \"https://drive.google.com/file/d/1hhxTrzMNxQZqfUoILd9tYWX5hfXX6v3Y/view\",\n",
    "            \"maroush\": \"https://www.marooush.de/menus/marooush_speisekarte.pdf\",\n",
    "            \"hacibaba\": \"https://www.hacibaba-berlin.de/#cat1\", \n",
    "            \"green_Rice\": \"https://drive.google.com/file/d/1Gd_arwkY0N5jhiDfMDZDsBVCQ4dl8UFr/view\",\n",
    "            \"tangs\": \"https://www.tangs-kantine.de/suppen-chinesisches-restaurant-berlin-kreuzberg/\",\n",
    "            \"parker_Bowles\": \"https://parker-bowles.com/wp-content/uploads/2019/08/DELI.pdf\",\n",
    "            \"zur_Gerichtslaube\": \"http://www.gerichtslaube.de/wp-content/uploads/2019/11/Speisekarte-eng-19.pdf\",\n",
    "            \"cocolo_ramen\": \"https://drive.google.com/file/d/1sNGL_7eRXGBHULfOvvEv1NCrAomzSMVE/view\"\n",
    "        } \n",
    "\n",
    "\n",
    "prolog.consult(\"KB.pl\") # open the KB\n",
    "call(retractall(known))\n",
    "# query the results: the satisfied restaurant X\n",
    "solution = [soln for soln in prolog.query(\"restaurant(X).\", maxresult=1)]\n",
    "\n",
    "# If no solution is found: the queried list is empty. Then we report no suitable results\n",
    "if solution == []:\n",
    "    print(\"\\nCannot find suitable result. Try again\")\n",
    "# if the solution is found: solution != empty\n",
    "else:\n",
    "    # retrieve the name of the solution: the restaurant name\n",
    "    solution = solution[0]\n",
    "    # print the recommendations and link to its menu\n",
    "    print(\"\\nYou should go to \" + (f\"{solution['X']}\" if solution else \"unknown.\") + \" restaurant.\")\n",
    "    print(\"Here is the menu:\", menu[solution['X']])"
   ]
  },
  {
   "cell_type": "code",
   "execution_count": 0,
   "metadata": {
    "collapsed": false
   },
   "outputs": [
   ],
   "source": [
   ]
  },
  {
   "cell_type": "code",
   "execution_count": 0,
   "metadata": {
    "collapsed": false
   },
   "outputs": [
   ],
   "source": [
   ]
  }
 ],
 "metadata": {
  "kernelspec": {
   "display_name": "Python 3 (system-wide)",
   "language": "python",
   "metadata": {
    "cocalc": {
     "description": "Python 3 programming language",
     "priority": 100,
     "url": "https://www.python.org/"
    }
   },
   "name": "python3"
  },
  "language_info": {
   "codemirror_mode": {
    "name": "ipython",
    "version": 3
   },
   "file_extension": ".py",
   "mimetype": "text/x-python",
   "name": "python",
   "nbconvert_exporter": "python",
   "pygments_lexer": "ipython3",
   "version": "3.6.9"
  }
 },
 "nbformat": 4,
 "nbformat_minor": 0
}